{
 "cells": [
  {
   "cell_type": "code",
   "execution_count": 2,
   "id": "bb622659",
   "metadata": {},
   "outputs": [],
   "source": [
    "from sentinelsat import SentinelAPI\n",
    "\n",
    "user = 'emirdurakovic' #you don't have to update this but if you do have an account you could\n",
    "password = 'Csbagfmpahisbvg' \n",
    "api = SentinelAPI(user, password, 'https://scihub.copernicus.eu/dhus')"
   ]
  },
  {
   "cell_type": "code",
   "execution_count": 3,
   "id": "d026be6a",
   "metadata": {},
   "outputs": [],
   "source": [
    "import geopandas as gpd\n",
    "import folium \n",
    "import os\n",
    "\n",
    "#nReserve = gpd.read_file('/Users/emirdurakovic25/Desktop/Coding/ArticleTest/NReserve/NaturalReserve_Polygon.shp')\n",
    "path = \"/Users/emirdurakovic25/Desktop/Coding/ArticleTest/TempFolder\" #update this with your directory and the other ones\n",
    "#try:\n",
    "#    os.mkdir(path)\n",
    "#except OSError:\n",
    "#    print (\"Creation of the directory %s failed\" % path)\n",
    "#else:\n",
    "#    print (\"Successfully created the directory %s \" % path)\n",
    "\n",
    "latitude_lower_bound = 25\n",
    "latitude_upper_bound = 50\n",
    "longitude_lower_bound = -66\n",
    "longitude_upper_bound = -126\n",
    "\n",
    "#latitude, longitude\n",
    "#m = folium.Map([x, y], zoom_start=9)\n",
    "#folium.GeoJson(nReserve).add_to(m)\n",
    "#m"
   ]
  },
  {
   "cell_type": "code",
   "execution_count": 4,
   "id": "a4a33f79",
   "metadata": {},
   "outputs": [],
   "source": [
    "#from shapely.geometry import MultiPolygon, Polygon\n",
    "\n",
    "#footprint = None\n",
    "#for i in nReserve['geometry']:\n",
    "#    footprint = i"
   ]
  },
  {
   "cell_type": "code",
   "execution_count": 5,
   "id": "34a1026f",
   "metadata": {},
   "outputs": [
    {
     "data": {
      "text/plain": [
       "\"products = api.query('POINT({0} {1})'.format(x,y), platformname = 'Sentinel-2', processinglevel = 'Level-2A',cloudcoverpercentage = (0, 10))\""
      ]
     },
     "execution_count": 5,
     "metadata": {},
     "output_type": "execute_result"
    }
   ],
   "source": [
    "# products = api.query(footprint,\n",
    "#                      date = ('20190601', '20190626'),\n",
    "#                      platformname = 'Sentinel-2',\n",
    "#                      processinglevel = 'Level-2A',\n",
    "#                      cloudcoverpercentage = (0,10)\n",
    "#                     )\n",
    "'''products = api.query('POINT({0} {1})'.format(x,y), platformname = 'Sentinel-2', processinglevel = 'Level-2A',cloudcoverpercentage = (0, 10))'''"
   ]
  },
  {
   "cell_type": "code",
   "execution_count": 6,
   "id": "45c402b6",
   "metadata": {
    "scrolled": true
   },
   "outputs": [
    {
     "data": {
      "text/plain": [
       "\"products_gdf = api.to_geodataframe(products)\\nproducts_gdf_sorted = products_gdf.sort_values(['cloudcoverpercentage'], ascending=[True])\\nproducts_gdf_sorted\\n#name = products_gdf_sorted.iloc[0,:].name\\n#print(products_gdf_sorted.iloc[0,:].at[Name])\\n#print(type(products_gdf_sorted.iloc[0,:]))\""
      ]
     },
     "execution_count": 6,
     "metadata": {},
     "output_type": "execute_result"
    }
   ],
   "source": [
    "'''products_gdf = api.to_geodataframe(products)\n",
    "products_gdf_sorted = products_gdf.sort_values(['cloudcoverpercentage'], ascending=[True])\n",
    "products_gdf_sorted\n",
    "#name = products_gdf_sorted.iloc[0,:].name\n",
    "#print(products_gdf_sorted.iloc[0,:].at[Name])\n",
    "#print(type(products_gdf_sorted.iloc[0,:]))'''"
   ]
  },
  {
   "cell_type": "code",
   "execution_count": 7,
   "id": "2c939d27",
   "metadata": {},
   "outputs": [
    {
     "name": "stdout",
     "output_type": "stream",
     "text": [
      "(-126, 25)\n",
      "(-125, 25)\n",
      "(-124, 25)\n",
      "(-123, 25)\n",
      "(-122, 25)\n",
      "(-121, 25)\n",
      "(-120, 25)\n",
      "(-119, 25)\n",
      "(-118, 25)\n",
      "(-117, 25)\n",
      "(-116, 25)\n",
      "(-115, 25)\n"
     ]
    },
    {
     "data": {
      "application/vnd.jupyter.widget-view+json": {
       "model_id": "0477c3da272f490c94819bb661eab611",
       "version_major": 2,
       "version_minor": 0
      },
      "text/plain": [
       "Querying products:  64%|######3   | 100/157 [00:00<?, ? products/s]"
      ]
     },
     "metadata": {},
     "output_type": "display_data"
    },
    {
     "name": "stdout",
     "output_type": "stream",
     "text": [
      "Product found\n",
      "(-114, 25)\n"
     ]
    },
    {
     "data": {
      "application/vnd.jupyter.widget-view+json": {
       "model_id": "461756a166d740e7a9eacbb15924086d",
       "version_major": 2,
       "version_minor": 0
      },
      "text/plain": [
       "Querying products:  67%|######6   | 100/150 [00:00<?, ? products/s]"
      ]
     },
     "metadata": {},
     "output_type": "display_data"
    },
    {
     "name": "stdout",
     "output_type": "stream",
     "text": [
      "Product found\n",
      "(-113, 25)\n",
      "Product found\n",
      "(-112, 25)\n"
     ]
    },
    {
     "data": {
      "application/vnd.jupyter.widget-view+json": {
       "model_id": "1ff68fa5bf584f1985e02aed23e9602d",
       "version_major": 2,
       "version_minor": 0
      },
      "text/plain": [
       "Querying products:  42%|####2     | 100/236 [00:00<?, ? products/s]"
      ]
     },
     "metadata": {},
     "output_type": "display_data"
    },
    {
     "name": "stdout",
     "output_type": "stream",
     "text": [
      "Product found\n",
      "(-111, 25)\n"
     ]
    },
    {
     "data": {
      "application/vnd.jupyter.widget-view+json": {
       "model_id": "dbef116b4ba444e08141a9fe293843ca",
       "version_major": 2,
       "version_minor": 0
      },
      "text/plain": [
       "Querying products:  55%|#####4    | 100/182 [00:00<?, ? products/s]"
      ]
     },
     "metadata": {},
     "output_type": "display_data"
    },
    {
     "name": "stdout",
     "output_type": "stream",
     "text": [
      "Product found\n",
      "(-110, 25)\n"
     ]
    },
    {
     "data": {
      "application/vnd.jupyter.widget-view+json": {
       "model_id": "5718292a71e246eea3c0e8064eb25f42",
       "version_major": 2,
       "version_minor": 0
      },
      "text/plain": [
       "Querying products:  31%|###       | 100/326 [00:00<?, ? products/s]"
      ]
     },
     "metadata": {},
     "output_type": "display_data"
    },
    {
     "name": "stdout",
     "output_type": "stream",
     "text": [
      "Product found\n",
      "(-109, 25)\n"
     ]
    },
    {
     "data": {
      "application/vnd.jupyter.widget-view+json": {
       "model_id": "3fde0576491f4b3bb7af9febbe0707d4",
       "version_major": 2,
       "version_minor": 0
      },
      "text/plain": [
       "Querying products:  55%|#####4    | 100/183 [00:00<?, ? products/s]"
      ]
     },
     "metadata": {},
     "output_type": "display_data"
    },
    {
     "name": "stdout",
     "output_type": "stream",
     "text": [
      "Product found\n",
      "(-108, 25)\n"
     ]
    },
    {
     "data": {
      "application/vnd.jupyter.widget-view+json": {
       "model_id": "7cbc8a36491e42379dcaa5426be55c88",
       "version_major": 2,
       "version_minor": 0
      },
      "text/plain": [
       "Querying products:  55%|#####4    | 100/183 [00:00<?, ? products/s]"
      ]
     },
     "metadata": {},
     "output_type": "display_data"
    },
    {
     "name": "stdout",
     "output_type": "stream",
     "text": [
      "Product found\n",
      "(-107, 25)\n",
      "Product found\n",
      "(-106, 25)\n"
     ]
    },
    {
     "data": {
      "application/vnd.jupyter.widget-view+json": {
       "model_id": "c0a1a058039846a681495429638441cb",
       "version_major": 2,
       "version_minor": 0
      },
      "text/plain": [
       "Querying products:  49%|####8     | 100/205 [00:00<?, ? products/s]"
      ]
     },
     "metadata": {},
     "output_type": "display_data"
    },
    {
     "name": "stdout",
     "output_type": "stream",
     "text": [
      "Product found\n",
      "(-105, 25)\n"
     ]
    },
    {
     "data": {
      "application/vnd.jupyter.widget-view+json": {
       "model_id": "70fef1478ee64c1e8dddea5ea8e982c7",
       "version_major": 2,
       "version_minor": 0
      },
      "text/plain": [
       "Querying products:  21%|##1       | 100/467 [00:00<?, ? products/s]"
      ]
     },
     "metadata": {},
     "output_type": "display_data"
    },
    {
     "name": "stdout",
     "output_type": "stream",
     "text": [
      "Product found\n"
     ]
    },
    {
     "ename": "ServerError",
     "evalue": "HTTP status 500 Internal Server Error: Could not roll back Hibernate transaction; nested exception is org.hibernate.TransactionException: Unable to rollback against JDBC Connection",
     "output_type": "error",
     "traceback": [
      "\u001b[0;31m---------------------------------------------------------------------------\u001b[0m",
      "\u001b[0;31mHTTPError\u001b[0m                                 Traceback (most recent call last)",
      "\u001b[0;32m/opt/anaconda3/lib/python3.8/site-packages/sentinelsat/sentinel.py\u001b[0m in \u001b[0;36m_check_scihub_response\u001b[0;34m(response, test_json, query_string)\u001b[0m\n\u001b[1;32m   1432\u001b[0m     \u001b[0;32mtry\u001b[0m\u001b[0;34m:\u001b[0m\u001b[0;34m\u001b[0m\u001b[0;34m\u001b[0m\u001b[0m\n\u001b[0;32m-> 1433\u001b[0;31m         \u001b[0mresponse\u001b[0m\u001b[0;34m.\u001b[0m\u001b[0mraise_for_status\u001b[0m\u001b[0;34m(\u001b[0m\u001b[0;34m)\u001b[0m\u001b[0;34m\u001b[0m\u001b[0;34m\u001b[0m\u001b[0m\n\u001b[0m\u001b[1;32m   1434\u001b[0m         \u001b[0;32mif\u001b[0m \u001b[0mtest_json\u001b[0m\u001b[0;34m:\u001b[0m\u001b[0;34m\u001b[0m\u001b[0;34m\u001b[0m\u001b[0m\n",
      "\u001b[0;32m/opt/anaconda3/lib/python3.8/site-packages/requests/models.py\u001b[0m in \u001b[0;36mraise_for_status\u001b[0;34m(self)\u001b[0m\n\u001b[1;32m    942\u001b[0m         \u001b[0;32mif\u001b[0m \u001b[0mhttp_error_msg\u001b[0m\u001b[0;34m:\u001b[0m\u001b[0;34m\u001b[0m\u001b[0;34m\u001b[0m\u001b[0m\n\u001b[0;32m--> 943\u001b[0;31m             \u001b[0;32mraise\u001b[0m \u001b[0mHTTPError\u001b[0m\u001b[0;34m(\u001b[0m\u001b[0mhttp_error_msg\u001b[0m\u001b[0;34m,\u001b[0m \u001b[0mresponse\u001b[0m\u001b[0;34m=\u001b[0m\u001b[0mself\u001b[0m\u001b[0;34m)\u001b[0m\u001b[0;34m\u001b[0m\u001b[0;34m\u001b[0m\u001b[0m\n\u001b[0m\u001b[1;32m    944\u001b[0m \u001b[0;34m\u001b[0m\u001b[0m\n",
      "\u001b[0;31mHTTPError\u001b[0m: 500 Server Error: Internal Server Error for url: https://scihub.copernicus.eu/dhus/odata/v1/Products('ef582d21-5c52-45e3-9782-9ca6a3f644d5')?$format=json",
      "\nDuring handling of the above exception, another exception occurred:\n",
      "\u001b[0;31mServerError\u001b[0m                               Traceback (most recent call last)",
      "\u001b[0;32m<ipython-input-7-8a626c996851>\u001b[0m in \u001b[0;36m<module>\u001b[0;34m\u001b[0m\n\u001b[1;32m     17\u001b[0m             \u001b[0mproducts_gdf_sorted\u001b[0m \u001b[0;34m=\u001b[0m \u001b[0mproducts_gdf\u001b[0m\u001b[0;34m.\u001b[0m\u001b[0msort_values\u001b[0m\u001b[0;34m(\u001b[0m\u001b[0;34m[\u001b[0m\u001b[0;34m'cloudcoverpercentage'\u001b[0m\u001b[0;34m]\u001b[0m\u001b[0;34m,\u001b[0m \u001b[0mascending\u001b[0m\u001b[0;34m=\u001b[0m\u001b[0;34m[\u001b[0m\u001b[0;32mTrue\u001b[0m\u001b[0;34m]\u001b[0m\u001b[0;34m)\u001b[0m\u001b[0;34m\u001b[0m\u001b[0;34m\u001b[0m\u001b[0m\n\u001b[1;32m     18\u001b[0m             \u001b[0mname\u001b[0m \u001b[0;34m=\u001b[0m \u001b[0mproducts_gdf_sorted\u001b[0m\u001b[0;34m.\u001b[0m\u001b[0miloc\u001b[0m\u001b[0;34m[\u001b[0m\u001b[0;36m0\u001b[0m\u001b[0;34m,\u001b[0m\u001b[0;34m:\u001b[0m\u001b[0;34m]\u001b[0m\u001b[0;34m.\u001b[0m\u001b[0mname\u001b[0m\u001b[0;34m\u001b[0m\u001b[0;34m\u001b[0m\u001b[0m\n\u001b[0;32m---> 19\u001b[0;31m             \u001b[0mapi\u001b[0m\u001b[0;34m.\u001b[0m\u001b[0mdownload_quicklook\u001b[0m\u001b[0;34m(\u001b[0m\u001b[0mname\u001b[0m\u001b[0;34m,\u001b[0m \u001b[0mpath\u001b[0m\u001b[0;34m)\u001b[0m\u001b[0;34m\u001b[0m\u001b[0;34m\u001b[0m\u001b[0m\n\u001b[0m\u001b[1;32m     20\u001b[0m \u001b[0;34m\u001b[0m\u001b[0m\n\u001b[1;32m     21\u001b[0m             \u001b[0;32mfor\u001b[0m \u001b[0mcount\u001b[0m\u001b[0;34m,\u001b[0m \u001b[0mfilename\u001b[0m \u001b[0;32min\u001b[0m \u001b[0menumerate\u001b[0m\u001b[0;34m(\u001b[0m\u001b[0mos\u001b[0m\u001b[0;34m.\u001b[0m\u001b[0mlistdir\u001b[0m\u001b[0;34m(\u001b[0m\u001b[0;34m\"/Users/emirdurakovic25/Desktop/Coding/ArticleTest/TempFolder\"\u001b[0m\u001b[0;34m)\u001b[0m\u001b[0;34m)\u001b[0m\u001b[0;34m:\u001b[0m\u001b[0;34m\u001b[0m\u001b[0;34m\u001b[0m\u001b[0m\n",
      "\u001b[0;32m/opt/anaconda3/lib/python3.8/site-packages/sentinelsat/sentinel.py\u001b[0m in \u001b[0;36mdownload_quicklook\u001b[0;34m(self, id, directory_path)\u001b[0m\n\u001b[1;32m    973\u001b[0m             \u001b[0mDictionary\u001b[0m \u001b[0mcontaining\u001b[0m \u001b[0mthe\u001b[0m \u001b[0mquicklooks\u001b[0m\u001b[0;31m'\u001b[0m\u001b[0ms\u001b[0m \u001b[0mresponse\u001b[0m \u001b[0mheaders\u001b[0m \u001b[0;32mas\u001b[0m \u001b[0mwell\u001b[0m \u001b[0;32mas\u001b[0m \u001b[0mthe\u001b[0m \u001b[0mpath\u001b[0m \u001b[0mon\u001b[0m \u001b[0mdisk\u001b[0m\u001b[0;34m.\u001b[0m\u001b[0;34m\u001b[0m\u001b[0;34m\u001b[0m\u001b[0m\n\u001b[1;32m    974\u001b[0m         \"\"\"\n\u001b[0;32m--> 975\u001b[0;31m         \u001b[0mproduct_info\u001b[0m \u001b[0;34m=\u001b[0m \u001b[0mself\u001b[0m\u001b[0;34m.\u001b[0m\u001b[0mget_product_odata\u001b[0m\u001b[0;34m(\u001b[0m\u001b[0mid\u001b[0m\u001b[0;34m)\u001b[0m\u001b[0;34m\u001b[0m\u001b[0;34m\u001b[0m\u001b[0m\n\u001b[0m\u001b[1;32m    976\u001b[0m         \u001b[0murl\u001b[0m \u001b[0;34m=\u001b[0m \u001b[0mproduct_info\u001b[0m\u001b[0;34m[\u001b[0m\u001b[0;34m\"quicklook_url\"\u001b[0m\u001b[0;34m]\u001b[0m\u001b[0;34m\u001b[0m\u001b[0;34m\u001b[0m\u001b[0m\n\u001b[1;32m    977\u001b[0m \u001b[0;34m\u001b[0m\u001b[0m\n",
      "\u001b[0;32m/opt/anaconda3/lib/python3.8/site-packages/sentinelsat/sentinel.py\u001b[0m in \u001b[0;36mget_product_odata\u001b[0;34m(self, id, full)\u001b[0m\n\u001b[1;32m    441\u001b[0m             \u001b[0murl\u001b[0m \u001b[0;34m+=\u001b[0m \u001b[0;34m\"&$expand=Attributes\"\u001b[0m\u001b[0;34m\u001b[0m\u001b[0;34m\u001b[0m\u001b[0m\n\u001b[1;32m    442\u001b[0m         \u001b[0mresponse\u001b[0m \u001b[0;34m=\u001b[0m \u001b[0mself\u001b[0m\u001b[0;34m.\u001b[0m\u001b[0msession\u001b[0m\u001b[0;34m.\u001b[0m\u001b[0mget\u001b[0m\u001b[0;34m(\u001b[0m\u001b[0murl\u001b[0m\u001b[0;34m)\u001b[0m\u001b[0;34m\u001b[0m\u001b[0;34m\u001b[0m\u001b[0m\n\u001b[0;32m--> 443\u001b[0;31m         \u001b[0m_check_scihub_response\u001b[0m\u001b[0;34m(\u001b[0m\u001b[0mresponse\u001b[0m\u001b[0;34m)\u001b[0m\u001b[0;34m\u001b[0m\u001b[0;34m\u001b[0m\u001b[0m\n\u001b[0m\u001b[1;32m    444\u001b[0m         \u001b[0mvalues\u001b[0m \u001b[0;34m=\u001b[0m \u001b[0m_parse_odata_response\u001b[0m\u001b[0;34m(\u001b[0m\u001b[0mresponse\u001b[0m\u001b[0;34m.\u001b[0m\u001b[0mjson\u001b[0m\u001b[0;34m(\u001b[0m\u001b[0;34m)\u001b[0m\u001b[0;34m[\u001b[0m\u001b[0;34m\"d\"\u001b[0m\u001b[0;34m]\u001b[0m\u001b[0;34m)\u001b[0m\u001b[0;34m\u001b[0m\u001b[0;34m\u001b[0m\u001b[0m\n\u001b[1;32m    445\u001b[0m         \u001b[0mvalues\u001b[0m\u001b[0;34m[\u001b[0m\u001b[0;34m\"quicklook_url\"\u001b[0m\u001b[0;34m]\u001b[0m \u001b[0;34m=\u001b[0m \u001b[0mself\u001b[0m\u001b[0;34m.\u001b[0m\u001b[0m_get_odata_url\u001b[0m\u001b[0;34m(\u001b[0m\u001b[0mid\u001b[0m\u001b[0;34m,\u001b[0m \u001b[0;34m\"/Products('Quicklook')/$value\"\u001b[0m\u001b[0;34m)\u001b[0m\u001b[0;34m\u001b[0m\u001b[0;34m\u001b[0m\u001b[0m\n",
      "\u001b[0;32m/opt/anaconda3/lib/python3.8/site-packages/sentinelsat/sentinel.py\u001b[0m in \u001b[0;36m_check_scihub_response\u001b[0;34m(response, test_json, query_string)\u001b[0m\n\u001b[1;32m   1477\u001b[0m         \u001b[0;32melif\u001b[0m \u001b[0;36m500\u001b[0m \u001b[0;34m<=\u001b[0m \u001b[0mresponse\u001b[0m\u001b[0;34m.\u001b[0m\u001b[0mstatus_code\u001b[0m \u001b[0;34m<\u001b[0m \u001b[0;36m600\u001b[0m \u001b[0;32mor\u001b[0m \u001b[0mmsg\u001b[0m\u001b[0;34m:\u001b[0m\u001b[0;34m\u001b[0m\u001b[0;34m\u001b[0m\u001b[0m\n\u001b[1;32m   1478\u001b[0m             \u001b[0;31m# 5xx: Server Error\u001b[0m\u001b[0;34m\u001b[0m\u001b[0;34m\u001b[0m\u001b[0;34m\u001b[0m\u001b[0m\n\u001b[0;32m-> 1479\u001b[0;31m             \u001b[0;32mraise\u001b[0m \u001b[0mServerError\u001b[0m\u001b[0;34m(\u001b[0m\u001b[0mmsg\u001b[0m\u001b[0;34m,\u001b[0m \u001b[0mresponse\u001b[0m\u001b[0;34m)\u001b[0m\u001b[0;34m\u001b[0m\u001b[0;34m\u001b[0m\u001b[0m\n\u001b[0m\u001b[1;32m   1480\u001b[0m         \u001b[0;32melse\u001b[0m\u001b[0;34m:\u001b[0m\u001b[0;34m\u001b[0m\u001b[0;34m\u001b[0m\u001b[0m\n\u001b[1;32m   1481\u001b[0m             \u001b[0;32mraise\u001b[0m \u001b[0mSentinelAPIError\u001b[0m\u001b[0;34m(\u001b[0m\u001b[0mmsg\u001b[0m\u001b[0;34m,\u001b[0m \u001b[0mresponse\u001b[0m\u001b[0;34m)\u001b[0m\u001b[0;34m\u001b[0m\u001b[0;34m\u001b[0m\u001b[0m\n",
      "\u001b[0;31mServerError\u001b[0m: HTTP status 500 Internal Server Error: Could not roll back Hibernate transaction; nested exception is org.hibernate.TransactionException: Unable to rollback against JDBC Connection"
     ]
    }
   ],
   "source": [
    "import os \n",
    "import time\n",
    "import shutil\n",
    "#longitude --> x\n",
    "#latitude --> y\n",
    "for latitude in range(latitude_lower_bound, latitude_upper_bound):\n",
    "    for longitude in range(longitude_upper_bound, longitude_lower_bound):\n",
    "        #m = folium.Map([i, j], zoom_start=12)\n",
    "        #folium.GeoJson(nReserve).add_to(m)\n",
    "        #footprint = None\n",
    "        #for k in nReserve['geometry']:\n",
    "        #    footprint = k\n",
    "        products = api.query('POINT({0} {1})'.format(longitude, latitude), platformname = 'Sentinel-2', processinglevel = 'Level-2A',cloudcoverpercentage = (0, 10))\n",
    "        products_gdf = api.to_geodataframe(products)\n",
    "        if (not(products_gdf.empty)):\n",
    "            print(\"Product found\")\n",
    "            products_gdf_sorted = products_gdf.sort_values(['cloudcoverpercentage'], ascending=[True])\n",
    "            name = products_gdf_sorted.iloc[0,:].name\n",
    "            api.download_quicklook(name, path)\n",
    "            \n",
    "            for count, filename in enumerate(os.listdir(\"/Users/emirdurakovic25/Desktop/Coding/ArticleTest/TempFolder\")):\n",
    "                dst = \"c\" + str(longitude)+ \"-\" + str(latitude) + \".jpeg\"\n",
    "                src = '/Users/emirdurakovic25/Desktop/Coding/ArticleTest/TempFolder/' + filename\n",
    "                dst = '/Users/emirdurakovic25/Desktop/Coding/ArticleTest/TempFolder/' + dst\n",
    "\n",
    "                # rename() function will\n",
    "                # rename all the files\n",
    "                os.rename(src, dst)\n",
    "            os.chdir('/Users/emirdurakovic25/Desktop/Coding/ArticleTest/TempFolder')\n",
    "            dst_dir = \"/Users/emirdurakovic25/Desktop/Coding/ArticleTest/testFolder\"\n",
    "            for f in os.listdir():\n",
    "                shutil.copy(f, dst_dir)\n",
    "            for file in os.listdir('/Users/emirdurakovic25/Desktop/Coding/ArticleTest/TempFolder'):\n",
    "                if file.endswith('.jpeg'):\n",
    "                    os.remove(file)\n",
    "            time.sleep(30)\n",
    "\n",
    "                \n",
    "        print((longitude, latitude))"
   ]
  },
  {
   "cell_type": "code",
   "execution_count": null,
   "id": "25901cc7",
   "metadata": {},
   "outputs": [],
   "source": [
    "'''api.download_quicklook(\"2959a50d-d5bc-4cf8-8ddb-9fe8f550acbc\")'''"
   ]
  },
  {
   "cell_type": "code",
   "execution_count": null,
   "id": "e046ee79",
   "metadata": {},
   "outputs": [],
   "source": [
    "'''# import the os module\n",
    "import os\n",
    "\n",
    "# detect the current working directory and print it\n",
    "path = os.getcwd()\n",
    "print (\"The current working directory is %s\" % path)'''"
   ]
  },
  {
   "cell_type": "code",
   "execution_count": null,
   "id": "0cda4883",
   "metadata": {},
   "outputs": [],
   "source": [
    "#path = \"/Users/emirdurakovic25/Desktop/Coding/ArticleTest/str(lat), str(long)\"\n",
    "#path = \"/Users/emirdurakovic25/Desktop/Coding/ArticleTest/\" + str(41.7023292727353) + \"_\" + str(12.34697305914639) + \".jpeg\"\n",
    "#api.download_quicklook(\"90be2869-3cb7-4db0-86c0-593f5cc889bd\", path)\n",
    "#try:\n",
    "#    os.mkdir(path)\n",
    "#except OSError:\n",
    "#    print (\"Creation of the directory %s failed\" % path)\n",
    "#else:\n",
    "#    print (\"Successfully created the directory %s \" % path)"
   ]
  },
  {
   "cell_type": "code",
   "execution_count": null,
   "id": "51324711",
   "metadata": {},
   "outputs": [],
   "source": [
    "#api.download_quicklook(\"90be2869-3cb7-4db0-86c0-593f5cc889bd\", path)"
   ]
  },
  {
   "cell_type": "code",
   "execution_count": null,
   "id": "0f88bf55",
   "metadata": {},
   "outputs": [],
   "source": [
    "'''import numpy as np\n",
    "koppen = np.genfromtxt(\"koppen_1901-2010.tsv\", dtype=None, names=True)\n",
    "print(\"The Koppen type at {} latitude and {} longitude is {}\".format(koppen['latitude'][2], koppen['longitude'][2], koppen['p1901_2010'][2])'''"
   ]
  },
  {
   "cell_type": "code",
   "execution_count": null,
   "id": "f5aa8887",
   "metadata": {},
   "outputs": [],
   "source": [
    "\n"
   ]
  },
  {
   "cell_type": "code",
   "execution_count": null,
   "id": "2955e15d",
   "metadata": {},
   "outputs": [],
   "source": [
    "'''import os \n",
    "for count, filename in enumerate(os.listdir(\"/Users/emirdurakovic25/Desktop/Coding/ArticleTest/TempFolder\")):\n",
    "        dst = \"c\" + str(longitude)+ \"-\" + str(latitude) + \".jpeg\"\n",
    "        src = '/Users/emirdurakovic25/Desktop/Coding/ArticleTest/TempFolder/' + filename\n",
    "        dst = '/Users/emirdurakovic25/Desktop/Coding/ArticleTest/TempFolder/' + dst\n",
    "          \n",
    "        # rename() function will\n",
    "        # rename all the files\n",
    "        os.rename(src, dst)\n",
    "'''"
   ]
  },
  {
   "cell_type": "code",
   "execution_count": null,
   "id": "e70eb971",
   "metadata": {},
   "outputs": [],
   "source": [
    "'''\n",
    "import shutil\n",
    "import os\n",
    "\n",
    "os.chdir('/Users/emirdurakovic25/Desktop/Coding/ArticleTest/TempFolder')\n",
    "dst_dir = \"/Users/emirdurakovic25/Desktop/Coding/ArticleTest/testFolder\"\n",
    "for f in os.listdir():\n",
    "    shutil.copy(f, dst_dir)\n",
    "'''"
   ]
  },
  {
   "cell_type": "code",
   "execution_count": null,
   "id": "08ea59f5",
   "metadata": {},
   "outputs": [],
   "source": [
    "'''import os\n",
    "for file in os.listdir('/Users/emirdurakovic25/Desktop/Coding/ArticleTest/TempFolder'):\n",
    "    if file.endswith('.jpeg'):\n",
    "        os.remove(file)\n",
    "'''"
   ]
  },
  {
   "cell_type": "code",
   "execution_count": null,
   "id": "978986ab",
   "metadata": {},
   "outputs": [],
   "source": [
    "'''\n",
    "# Example of reading the koppen_1901-2010.tsv file in Python\n",
    "import numpy as np\n",
    "koppen = np.genfromtxt(\"/Users/emirdurakovic25/Desktop/Coding/ArticleTest/data/koppen_1901-2010.tsv\", dtype=None, names=True)\n",
    "print(\"The Koppen type at {} latitude and {} longitude is {}\".format(\n",
    "        koppen['latitude'][7000], koppen['longitude'][7000], koppen['p1901_2010'][7000]))\n",
    "'''"
   ]
  },
  {
   "cell_type": "code",
   "execution_count": null,
   "id": "750ada15",
   "metadata": {},
   "outputs": [],
   "source": []
  },
  {
   "cell_type": "code",
   "execution_count": null,
   "id": "75fdf45c",
   "metadata": {},
   "outputs": [],
   "source": [
    "'''\n",
    "import os\n",
    "climateDir = \"/Users/emirdurakovic25/Desktop/Coding/ArticleTest/Climates\"\n",
    "\n",
    "try:\n",
    "    os.mkdir(climateDir)\n",
    "except OSError:\n",
    "    print (\"Creation of the directory %s failed\" % climates)\n",
    "else:\n",
    "    print (\"Successfully created the directory %s \" % climates)\n",
    "'''"
   ]
  },
  {
   "cell_type": "code",
   "execution_count": null,
   "id": "44a1f463",
   "metadata": {},
   "outputs": [],
   "source": [
    "'''\n",
    "import os\n",
    "direction = \"/Users/emirdurakovic25/Desktop/Coding/ArticleTest/Climates/\"\n",
    "climates = [\"Af\", \"Am\", \"Aw\", \"As\", \n",
    "            \"BWh\", \"BWk\", \"BSh\", \"BSk\", \n",
    "            \"Csa\", \"Csb\", \"Csc\", \"Cwa\", \"Cwb\", \"Cwc\", \"Cfa\", \"Cfb\", \"Cfc\",\n",
    "            \"Dsa\", \"Dsb\", \"Dsc\", \"Dsd\", \"Dwa\", \"Dwb\", \"Dwc\", \"Dwd\", \"Dfa\", \"Dfb\", \"Dfc\", \"Dfd\",\n",
    "            \"ET\", \"EF\"]\n",
    "\n",
    "for i in range(len(climates)):\n",
    "    #print(climates[i])\n",
    "    os.mkdir(direction + climates[i])\n",
    "'''"
   ]
  },
  {
   "cell_type": "code",
   "execution_count": null,
   "id": "477cfbad",
   "metadata": {},
   "outputs": [],
   "source": []
  }
 ],
 "metadata": {
  "kernelspec": {
   "display_name": "Python 3",
   "language": "python",
   "name": "python3"
  },
  "language_info": {
   "codemirror_mode": {
    "name": "ipython",
    "version": 3
   },
   "file_extension": ".py",
   "mimetype": "text/x-python",
   "name": "python",
   "nbconvert_exporter": "python",
   "pygments_lexer": "ipython3",
   "version": "3.8.8"
  }
 },
 "nbformat": 4,
 "nbformat_minor": 5
}
