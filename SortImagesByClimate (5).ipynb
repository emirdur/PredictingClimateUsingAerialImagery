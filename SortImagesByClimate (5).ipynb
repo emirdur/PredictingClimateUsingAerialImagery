{
 "cells": [
  {
   "cell_type": "code",
   "execution_count": null,
   "id": "c4e63c4c",
   "metadata": {},
   "outputs": [
    {
     "name": "stderr",
     "output_type": "stream",
     "text": [
      "<ipython-input-2-6f020870b69c>:24: VisibleDeprecationWarning: Reading unicode strings without specifying the encoding argument is deprecated. Set the encoding, use None for the system default.\n",
      "  koppen = np.genfromtxt(path, dtype=None, names=True)\n"
     ]
    }
   ],
   "source": [
    "# Example of reading the koppen_1901-2010.tsv file in Python\n",
    "import numpy as np\n",
    "import pickle\n",
    "import math\n",
    "import os\n",
    "import time\n",
    "import shutil\n",
    "#USA\n",
    "#latitude_lower_bound = 30\n",
    "#latitude_upper_bound = 50\n",
    "#longitude_lower_bound = -120\n",
    "#longitude_upper_bound = -70\n",
    "#lat_lower, long_lower --> bottom left corner\n",
    "#lat_lower, long_upper --> bottom right corner\n",
    "#lat_upper, long_lower --> top left corner\n",
    "#lat_upper, long_upper --> top right corner\n",
    "#South America\n",
    "#latitude_lower_bound = -35\n",
    "#latitude_upper_bound = 0\n",
    "#longitude_lower_bound = -70\n",
    "#longitude_upper_bound = -35\n",
    "directory = \"/Users/emirdurakovic25/Desktop/Coding/ArticleTest/testFolder\"\n",
    "path = \"/Users/emirdurakovic25/Desktop/Coding/ArticleTest/data/koppen_1901-2010.tsv\"\n",
    "koppen = np.genfromtxt(path, dtype=None, names=True)\n",
    "\n",
    "imageToClimate = {}\n",
    "\n",
    "for filename in os.listdir(directory):\n",
    "    if filename.endswith(\".jpeg\"):\n",
    "        #print(os.path.join(filename))\n",
    "        newFile = filename.replace(\".jpeg\", '')\n",
    "        latLon = newFile.split(\"l\")\n",
    "        lat = (np.pi / 180) * int(latLon[2])\n",
    "        lon = (np.pi / 180) * int(latLon[1])\n",
    "\n",
    "        dist = [] \n",
    "        clim = []\n",
    "        \n",
    "        for i in range(len(koppen)):\n",
    "            #we can get rid of this, probably will take longer though\n",
    "            #if (koppen['latitude'][i] >= latitude_lower_bound and koppen['latitude'][i] <= latitude_upper_bound and koppen['longitude'][i] >= longitude_lower_bound and koppen['longitude'][i] <= longitude_upper_bound):\n",
    "            koppenLat = (np.pi / 180) * koppen['latitude'][i]\n",
    "            koppenLon = (np.pi / 180) * koppen['longitude'][i]\n",
    "            distance = math.sin(pow(((koppenLat-lat)/2), 2))+math.cos(koppenLat)*math.cos(lat)*math.sin(pow(((koppenLon-lon)/2), 2))\n",
    "                #print(str(lat) + \" \" + str(lon))\n",
    "                #print(str(koppen['latitude'][i]) + \" \" + str(koppen['longitude'][i]) + \" \" + str(koppen['p1901_2010'][i]))\n",
    "            dist.append(distance)\n",
    "            clim.append(koppen['p1901_2010'][i])\n",
    "                #latitud.append(koppen['latitude'][i])\n",
    "                #longitud.append(koppen['longitude'][i])\n",
    "        \n",
    "\n",
    "        #print(min(dist))\n",
    "        #print(dist.index(min(dist)))\n",
    "        closestClimateType = clim[dist.index(min(dist))]\n",
    "        imageToClimate[filename] = closestClimateType\n",
    "    \n",
    "        #print(clim)\n",
    "        #print(koppen['p1901_2010'][dist.index(min(dist))])\n",
    "        #print(koppen['latitude'][dist.index(min(dist))])\n",
    "        #print(koppen['longitude'][dist.index(min(dist))])\n",
    "\n",
    "pickle.dump(imageToClimate, open(\"imageToClimate.p\", \"wb\"))\n",
    "imageToClimate = pickle.load(open(\"imageToClimate.p\", \"rb\"))\n",
    "print(imageToClimate)\n",
    "\n",
    "dst = \"/Users/emirdurakovic25/Desktop/Coding/ArticleTest/Climates/\"\n",
    "\n",
    "\n"
   ]
  },
  {
   "cell_type": "code",
   "execution_count": null,
   "id": "16eb436d",
   "metadata": {},
   "outputs": [],
   "source": [
    "for i in imageToClimate:\n",
    "    #check if the latitudes pulled are equal in the dictionary\n",
    "    print(i)\n",
    "    origClimate = str(imageToClimate.get(i))\n",
    "    newClim = str(origClimate[2:-1])\n",
    "    moveToClimate = dst + newClim\n",
    "    source = directory + \"/\" + i\n",
    "    #for filename in os.listdir(directory):\n",
    "        #if filename.endswith(\".jpeg\"):\n",
    "        \n",
    "    #print(filename)\n",
    "    #print(newClim)\n",
    "    shutil.copy(source, moveToClimate)"
   ]
  },
  {
   "cell_type": "code",
   "execution_count": 2,
   "id": "9567b233",
   "metadata": {},
   "outputs": [
    {
     "name": "stdout",
     "output_type": "stream",
     "text": [
      "7\n"
     ]
    },
    {
     "data": {
      "text/plain": [
       "'\\nbigList = list(zip(origList, climList))\\nrandom.shuffle(bigList)\\n\\norigList, climList = zip(*bigList)\\n\\ndataTrainAmount = math.ceil(counter * 0.8)\\ndataTestAmount = math.ceil(counter * 0.2)\\n\\n#for i in range(dataTrainAmount):\\n#    shutil.move(origList[i], climList[i])\\n'"
      ]
     },
     "execution_count": 2,
     "metadata": {},
     "output_type": "execute_result"
    }
   ],
   "source": [
    "import random, os, shutil, math\n",
    "path = \"/Users/emirdurakovic25/Desktop/Coding/ArticleTest/Climates\"\n",
    "newPath = \"/Users/emirdurakovic25/Desktop/Coding/ArticleTest/ClimatesTrain\"\n",
    "\n",
    "counter = 0\n",
    "#origList = []\n",
    "#climList = []\n",
    "\n",
    "for i in os.listdir(path):\n",
    "    for j in os.listdir(path + \"/\" + i):\n",
    "        counter = counter + 1\n",
    "        #origList.append(path + \"/\" + i + \"/\" + j)\n",
    "        #climList.append(newPath + \"/\" + i)\n",
    "#print(counter)\n",
    "    \n",
    "\n",
    "bigList = list(zip(origList, climList))\n",
    "random.shuffle(bigList)\n",
    "\n",
    "origList, climList = zip(*bigList)\n",
    "\n",
    "dataTrainAmount = math.ceil(counter * 0.8)\n",
    "dataTestAmount = math.ceil(counter * 0.2)\n",
    "\n",
    "#for i in range(dataTrainAmount):\n",
    "#    shutil.move(origList[i], climList[i])\n"
   ]
  },
  {
   "cell_type": "code",
   "execution_count": null,
   "id": "7f2c328f",
   "metadata": {},
   "outputs": [],
   "source": [
    "import tensorflow as tf\n",
    "from tensorflow import keras\n",
    "from tensorflow.keras import layers\n",
    "datagen = ImageDataGenerator()\n",
    "# load and iterate training dataset\n",
    "train_it = datagen.flow_from_directory('/Users/emirdurakovic25/Desktop/Coding/ArticleTest/ClimatesTrain/', class_mode='categorical', batch_size=64)\n",
    "# load and iterate test dataset\n",
    "test_it = datagen.flow_from_directory('/Users/emirdurakovic25/Desktop/Coding/ArticleTest/Climates/', class_mode='categorical', batch_size=64)"
   ]
  },
  {
   "cell_type": "code",
   "execution_count": null,
   "id": "63a61717",
   "metadata": {},
   "outputs": [],
   "source": []
  }
 ],
 "metadata": {
  "kernelspec": {
   "display_name": "Python 3",
   "language": "python",
   "name": "python3"
  },
  "language_info": {
   "codemirror_mode": {
    "name": "ipython",
    "version": 3
   },
   "file_extension": ".py",
   "mimetype": "text/x-python",
   "name": "python",
   "nbconvert_exporter": "python",
   "pygments_lexer": "ipython3",
   "version": "3.8.8"
  }
 },
 "nbformat": 4,
 "nbformat_minor": 5
}
